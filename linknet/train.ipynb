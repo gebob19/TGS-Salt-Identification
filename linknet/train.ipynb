{
 "cells": [
  {
   "cell_type": "code",
   "execution_count": 44,
   "metadata": {},
   "outputs": [
    {
     "name": "stdout",
     "output_type": "stream",
     "text": [
      "The autoreload extension is already loaded. To reload it, use:\n",
      "  %reload_ext autoreload\n"
     ]
    }
   ],
   "source": [
    "import pandas as pd\n",
    "import numpy as np\n",
    "import tensorflow as tf\n",
    "\n",
    "from keras.callbacks import ReduceLROnPlateau, ModelCheckpoint, EarlyStopping\n",
    "from keras.preprocessing.image import ImageDataGenerator\n",
    "\n",
    "from losses import dice_loss, bce_logdice_loss, bce_dice_loss\n",
    "from models import linknet\n",
    "from helpers import get_data, TrainValTensorBoard\n",
    "\n",
    "%load_ext autoreload\n",
    "%autoreload 2"
   ]
  },
  {
   "cell_type": "code",
   "execution_count": 26,
   "metadata": {},
   "outputs": [],
   "source": [
    "data_path = '../data/processed-data'\n",
    "\n",
    "xtrain, xval, ytrain, yval, \\\n",
    "dtrain, dval, idtrain, idval = get_data(data_path)"
   ]
  },
  {
   "cell_type": "code",
   "execution_count": 52,
   "metadata": {},
   "outputs": [],
   "source": [
    "lr = 1e-2\n",
    "BATCH_SIZE = 5\n",
    "EPOCHS = 1\n",
    "\n",
    "# dim based off the linknet paper\n",
    "H, W, C = 256, 256, 1\n",
    "\n",
    "model = linknet((H, W, C), lr, bce_dice_loss)"
   ]
  },
  {
   "cell_type": "code",
   "execution_count": 53,
   "metadata": {},
   "outputs": [],
   "source": [
    "# https://github.com/keras-team/keras/issues/3386\n",
    "def createGenerator( X, I, Y):\n",
    "    while True:\n",
    "        # suffled indices    \n",
    "        idx = np.random.permutation(X.shape[0])\n",
    "        # create image generator\n",
    "        datagen = ImageDataGenerator(zoom_range=0.1,\n",
    "                                     width_shift_range=0.01, \n",
    "                                     height_shift_range=0.3,\n",
    "                                     horizontal_flip=True)\n",
    "\n",
    "        batches = datagen.flow( X[idx], Y[idx], batch_size=BATCH_SIZE, shuffle=False)\n",
    "        idx0 = 0\n",
    "        for batch in batches:\n",
    "            idx1 = idx0 + batch[0].shape[0]\n",
    "            yield [batch[0], I[ idx[ idx0:idx1 ] ]], batch[1]\n",
    "\n",
    "            idx0 = idx1\n",
    "            if idx1 >= X.shape[0]:\n",
    "                break"
   ]
  },
  {
   "cell_type": "code",
   "execution_count": 54,
   "metadata": {},
   "outputs": [],
   "source": [
    "# define callbacks\n",
    "lr_plat = ReduceLROnPlateau(monitor='val_dice_coef',\n",
    "                               factor=0.2,\n",
    "                               patience=5,\n",
    "                               verbose=1,\n",
    "                               min_delta=1e-4,\n",
    "                               mode='max')\n",
    "early_stop = EarlyStopping(monitor='val_dice_coef',\n",
    "                           patience=10,\n",
    "                           verbose=1,\n",
    "                           min_delta=1e-4,\n",
    "                           mode='max')\n",
    "m_checkpoint = ModelCheckpoint(monitor='val_dice_coef',\n",
    "                             filepath='model_weights.hdf5',\n",
    "                             save_best_only=True,\n",
    "                             mode='max')\n",
    "tb = TrainValTensorBoard(write_graph=False)\n",
    "callbacks = [lr_plat, early_stop, m_checkpoint, tb]"
   ]
  },
  {
   "cell_type": "code",
   "execution_count": 56,
   "metadata": {},
   "outputs": [],
   "source": [
    "model.fit_generator(generator=createGenerator(xtrain, dtrain, ytrain),\n",
    "                    steps_per_epoch=np.ceil(float(len(xtrain)) / float(BATCH_SIZE)),\n",
    "                    epochs=EPOCHS,\n",
    "                    verbose=1,\n",
    "                    callbacks=callbacks,\n",
    "                    validation_data=([xval, dval], yval), \n",
    "                    validation_steps=np.ceil(float(len(xval)) / float(BATCH_SIZE)))"
   ]
  },
  {
   "cell_type": "code",
   "execution_count": 58,
   "metadata": {},
   "outputs": [],
   "source": [
    "# !ipython nbconvert --to=python train.ipynb"
   ]
  },
  {
   "cell_type": "code",
   "execution_count": null,
   "metadata": {},
   "outputs": [],
   "source": []
  }
 ],
 "metadata": {
  "kernelspec": {
   "display_name": "Python 3",
   "language": "python",
   "name": "python3"
  },
  "language_info": {
   "codemirror_mode": {
    "name": "ipython",
    "version": 3
   },
   "file_extension": ".py",
   "mimetype": "text/x-python",
   "name": "python",
   "nbconvert_exporter": "python",
   "pygments_lexer": "ipython3",
   "version": "3.6.5"
  }
 },
 "nbformat": 4,
 "nbformat_minor": 2
}
