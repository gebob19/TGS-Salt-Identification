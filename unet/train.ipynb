{
 "cells": [
  {
   "cell_type": "code",
   "execution_count": 86,
   "metadata": {},
   "outputs": [
    {
     "name": "stdout",
     "output_type": "stream",
     "text": [
      "The autoreload extension is already loaded. To reload it, use:\n",
      "  %reload_ext autoreload\n"
     ]
    }
   ],
   "source": [
    "import numpy as np\n",
    "import tensorflow as tf\n",
    "\n",
    "from keras.callbacks import ReduceLROnPlateau, ModelCheckpoint, EarlyStopping\n",
    "from keras.preprocessing.image import ImageDataGenerator\n",
    "\n",
    "from model import unet\n",
    "import sys\n",
    "sys.path.insert(0, '..')\n",
    "from helpers import TrainValTensorBoard, get_data, createGenerator\n",
    "from losses import dice_loss, bce_dice_loss, bce_logdice_loss\n",
    "\n",
    "%load_ext autoreload\n",
    "%autoreload 2"
   ]
  },
  {
   "cell_type": "code",
   "execution_count": 6,
   "metadata": {},
   "outputs": [],
   "source": [
    "data_path = '../data/processed-data'\n",
    "\n",
    "xtrain, xval, ytrain, yval, \\\n",
    "dtrain, dval, idtrain, idval = get_data(data_path)"
   ]
  },
  {
   "cell_type": "code",
   "execution_count": 87,
   "metadata": {},
   "outputs": [],
   "source": [
    "H, W, C = 256, 256, 1\n",
    "\n",
    "BATCH_SIZE = 64\n",
    "EPOCHS = 100\n",
    "\n",
    "learning_rate = 1e-2\n",
    "filter_sizes = [32, 64, 128, 256]\n",
    "bn_fsize = 256\n",
    "loss = dice_loss\n",
    "\n",
    "model = unet((H, W, C), filter_sizes, bn_fsize, learning_rate, loss)"
   ]
  },
  {
   "cell_type": "code",
   "execution_count": 82,
   "metadata": {},
   "outputs": [],
   "source": [
    "# define callbacks\n",
    "lr_plat = ReduceLROnPlateau(monitor='val_dice_coef',\n",
    "                               factor=0.2,\n",
    "                               patience=5,\n",
    "                               verbose=1,\n",
    "                               min_delta=1e-4,\n",
    "                               mode='max')\n",
    "early_stop = EarlyStopping(monitor='val_dice_coef',\n",
    "                           patience=10,\n",
    "                           verbose=1,\n",
    "                           min_delta=1e-4,\n",
    "                           mode='max')\n",
    "m_checkpoint = ModelCheckpoint(monitor='val_dice_coef',\n",
    "                             filepath='model_weights.hdf5',\n",
    "                             save_best_only=True,\n",
    "                             mode='max')\n",
    "tb = TrainValTensorBoard(write_graph=False)\n",
    "callbacks = [lr_plat, early_stop, m_checkpoint, tb]"
   ]
  },
  {
   "cell_type": "code",
   "execution_count": 83,
   "metadata": {},
   "outputs": [],
   "source": [
    "# attempt to over train model first => evaulate its capacity\n",
    "model.fit([xtrain, dtrain], ytrain, batch_size=BATCH_SIZE,\n",
    "#         steps_per_epoch=np.ceil(float(len(xtrain)) / float(BATCH_SIZE)),\n",
    "        epochs=EPOCHS,\n",
    "        verbose=1,\n",
    "        callbacks=callbacks,\n",
    "        validation_data=([xval, dval], yval))\n",
    "#         validation_steps=np.ceil(float(len(xval)) / float(BATCH_SIZE)))"
   ]
  },
  {
   "cell_type": "code",
   "execution_count": null,
   "metadata": {},
   "outputs": [],
   "source": [
    "# fit with depth dimension\n",
    "# model.fit_generator(generator=createGenerator(xtrain, dtrain, ytrain),\n",
    "#                     steps_per_epoch=np.ceil(float(len(xtrain)) / float(BATCH_SIZE)),\n",
    "#                     epochs=EPOCHS,\n",
    "#                     verbose=1,\n",
    "#                     callbacks=callbacks,\n",
    "#                     validation_data=([xval, dval], yval), \n",
    "#                     validation_steps=np.ceil(float(len(xval)) / float(BATCH_SIZE)))"
   ]
  },
  {
   "cell_type": "code",
   "execution_count": null,
   "metadata": {},
   "outputs": [],
   "source": [
    "!ipython nbconvert --to=python train.ipynb"
   ]
  }
 ],
 "metadata": {
  "kernelspec": {
   "display_name": "Python 3",
   "language": "python",
   "name": "python3"
  },
  "language_info": {
   "codemirror_mode": {
    "name": "ipython",
    "version": 3
   },
   "file_extension": ".py",
   "mimetype": "text/x-python",
   "name": "python",
   "nbconvert_exporter": "python",
   "pygments_lexer": "ipython3",
   "version": "3.6.5"
  }
 },
 "nbformat": 4,
 "nbformat_minor": 2
}
